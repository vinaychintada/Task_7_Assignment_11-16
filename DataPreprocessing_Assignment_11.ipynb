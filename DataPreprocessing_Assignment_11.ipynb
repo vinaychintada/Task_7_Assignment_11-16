{
  "nbformat": 4,
  "nbformat_minor": 0,
  "metadata": {
    "colab": {
      "name": "DataPreprocessing_Assignment_11.ipynb",
      "provenance": []
    },
    "kernelspec": {
      "name": "python3",
      "display_name": "Python 3"
    },
    "language_info": {
      "name": "python"
    }
  },
  "cells": [
    {
      "cell_type": "markdown",
      "source": [
        ""
      ],
      "metadata": {
        "id": "n_IsGVaVxSEr"
      }
    },
    {
      "cell_type": "markdown",
      "source": [
        "Importing the libraries"
      ],
      "metadata": {
        "id": "9I0zvPLMxVTE"
      }
    },
    {
      "cell_type": "code",
      "execution_count": null,
      "metadata": {
        "id": "w9i30dxRQuyv"
      },
      "outputs": [],
      "source": [
        "import numpy as np\n",
        "import pandas as pd"
      ]
    },
    {
      "cell_type": "markdown",
      "source": [
        "Importing the dataset"
      ],
      "metadata": {
        "id": "0L7hlGJ0xap1"
      }
    },
    {
      "cell_type": "code",
      "source": [
        "dataset = pd.read_csv('Data (1).csv')\n",
        "x = dataset.iloc[ : , :-1].values\n",
        "y = dataset.iloc[ : , 3].values"
      ],
      "metadata": {
        "id": "5VBmTJD_xi2F"
      },
      "execution_count": null,
      "outputs": []
    },
    {
      "cell_type": "markdown",
      "source": [
        "Handling the missing data"
      ],
      "metadata": {
        "id": "m209uq_jyWCu"
      }
    },
    {
      "cell_type": "code",
      "source": [
        "from sklearn.impute import SimpleImputer \n",
        "imputer = SimpleImputer(missing_values=np.nan, strategy='mean')\n",
        "imputer = imputer.fit(x[ : , 1:3])\n",
        "x[ : , 1:3] = imputer.transform(x[ : , 1:3])"
      ],
      "metadata": {
        "id": "r2jaanyMxuGM"
      },
      "execution_count": null,
      "outputs": []
    },
    {
      "cell_type": "markdown",
      "source": [
        "Encoding Categorical Data"
      ],
      "metadata": {
        "id": "DtNbv-wKyfM0"
      }
    },
    {
      "cell_type": "code",
      "source": [
        "from sklearn.preprocessing import LabelEncoder, OneHotEncoder\n",
        "labelencoder_x = LabelEncoder()\n",
        "x[ : , 0] = labelencoder_x.fit_transform(x[ : , 0])"
      ],
      "metadata": {
        "id": "wjvNWzahyldb"
      },
      "execution_count": null,
      "outputs": []
    },
    {
      "cell_type": "markdown",
      "source": [
        "Creating a dummy variable"
      ],
      "metadata": {
        "id": "y8FdB9coy-lf"
      }
    },
    {
      "cell_type": "code",
      "source": [
        "onehotencoder = OneHotEncoder(categories='auto')"
      ],
      "metadata": {
        "id": "Hb42u1mly_gS"
      },
      "execution_count": null,
      "outputs": []
    },
    {
      "cell_type": "code",
      "source": [
        "x = onehotencoder.fit_transform(x).toarray()\n",
        "labelencoder_y = LabelEncoder()\n",
        "y =  labelencoder_y.fit_transform(y)"
      ],
      "metadata": {
        "id": "6mEiR6fIzELC"
      },
      "execution_count": null,
      "outputs": []
    },
    {
      "cell_type": "markdown",
      "source": [
        "Splitting the datasets into training sets and Test sets"
      ],
      "metadata": {
        "id": "0SaQtQSpzMf4"
      }
    },
    {
      "cell_type": "code",
      "source": [
        "from sklearn.model_selection import train_test_split\n",
        "x_train, x_test, y_train, y_test = train_test_split( x , y, test_size = 0.2, random_state = 0)"
      ],
      "metadata": {
        "id": "MW25en2uzP5V"
      },
      "execution_count": null,
      "outputs": []
    },
    {
      "cell_type": "markdown",
      "source": [
        "Feature Scaling"
      ],
      "metadata": {
        "id": "cJir6XoWzcmV"
      }
    },
    {
      "cell_type": "code",
      "source": [
        "from sklearn.preprocessing import StandardScaler\n",
        "sc_x = StandardScaler()\n",
        "x_train = sc_x.fit_transform(x_train)\n",
        "x_test = sc_x.fit_transform(x_test)"
      ],
      "metadata": {
        "id": "sj8O6Vq5zdb7"
      },
      "execution_count": null,
      "outputs": []
    }
  ]
}